{
 "cells": [
  {
   "cell_type": "markdown",
   "id": "d03ec185",
   "metadata": {},
   "source": [
    "### Py3 vs Py3\n",
    "\n",
    "- print method \n",
    "- division operation\n",
    "- characteral data representation \n",
    "    - ASCII  - 8bit (256)\n",
    "    - UNICODE - 16 bit  (65536)\n",
    "    "
   ]
  },
  {
   "cell_type": "markdown",
   "id": "f0b74cbf",
   "metadata": {},
   "source": [
    "### Print() Method"
   ]
  },
  {
   "cell_type": "code",
   "execution_count": null,
   "id": "53f9559a",
   "metadata": {},
   "outputs": [],
   "source": [
    "print()  it prints data on the console(screen)\n",
    "\n",
    "# print(value, ..., sep=' ', end='\\n', file=sys.stdout, flush=False)\n",
    "# attributes \n",
    "    - value\n",
    "    - sep \n",
    "    - end\n",
    "    - file\n",
    "    - flush \n",
    "    \n",
    "# shift+TAB = to display the syntax"
   ]
  },
  {
   "cell_type": "code",
   "execution_count": null,
   "id": "620e7549",
   "metadata": {},
   "outputs": [],
   "source": [
    "#run = shift +tab\n",
    "print(\"Hello World\") #function or method print() \n",
    "print('Python Session')\n",
    "print(\"\"\"July Class\"\"\")"
   ]
  },
  {
   "cell_type": "code",
   "execution_count": null,
   "id": "0e73facd",
   "metadata": {},
   "outputs": [],
   "source": [
    "\n",
    "# int   0-9\n",
    "# float 0.0 ,10.2\n",
    "# str   'a-z' 'A-Z' '@@*(*@)'\n",
    "# bool   True False\n",
    "# complex 10+2j\n",
    "# None\n",
    "\n",
    "# SEQUENCE Datatypes \n",
    "# [] - List\n",
    "# () - Tuple\n",
    "# {} - set , dictionary"
   ]
  },
  {
   "cell_type": "code",
   "execution_count": null,
   "id": "8957d9ab",
   "metadata": {},
   "outputs": [],
   "source": [
    "print(10)\n",
    "print(\"Helo\")\n",
    "print(10.90)\n",
    "print(True,False)\n",
    "print(10+2j)\n",
    "print([1,20,30])\n",
    "print((\"a\",\"b\",\"c\",\"d\"))\n",
    "print({\"a\",\"b\",\"c\",\"d\",\"a\",\"b\"})\n",
    "print({\"name\":\"AKR\",\"Session\":\"Python\"})"
   ]
  },
  {
   "cell_type": "code",
   "execution_count": null,
   "id": "fe7ec2f5",
   "metadata": {},
   "outputs": [],
   "source": [
    "# other lang\n",
    "# <datatype> <var-name> = value\n",
    "\n",
    "# python\n",
    "\n",
    "# <var-name> = value"
   ]
  },
  {
   "cell_type": "code",
   "execution_count": 6,
   "id": "c018c075",
   "metadata": {},
   "outputs": [
    {
     "name": "stdout",
     "output_type": "stream",
     "text": [
      "10\n",
      "True\n",
      "Hello\n"
     ]
    }
   ],
   "source": [
    "a = 10 #declared\n",
    "b = True\n",
    "c = \"Hello\"\n",
    "print(a)\n",
    "print(b)\n",
    "print(c)"
   ]
  },
  {
   "cell_type": "code",
   "execution_count": 8,
   "id": "8b88300e",
   "metadata": {},
   "outputs": [
    {
     "name": "stdout",
     "output_type": "stream",
     "text": [
      "10 True Hello\n"
     ]
    }
   ],
   "source": [
    "print(a,b,c)"
   ]
  },
  {
   "cell_type": "code",
   "execution_count": 11,
   "id": "cee63cc3",
   "metadata": {},
   "outputs": [
    {
     "name": "stdout",
     "output_type": "stream",
     "text": [
      "10       True       Hello\n"
     ]
    }
   ],
   "source": [
    "print(a,b,c, sep=\"       \")\n",
    "# \\n = new line\n",
    "# \\t = tab"
   ]
  },
  {
   "cell_type": "code",
   "execution_count": 13,
   "id": "4efd5cca",
   "metadata": {},
   "outputs": [
    {
     "name": "stdout",
     "output_type": "stream",
     "text": [
      "10TrueHello\n"
     ]
    }
   ],
   "source": [
    "print(a,b,c, sep=\"\")"
   ]
  },
  {
   "cell_type": "code",
   "execution_count": 12,
   "id": "04c15b1e",
   "metadata": {},
   "outputs": [
    {
     "name": "stdout",
     "output_type": "stream",
     "text": [
      "10\n",
      "True\n",
      "Hello\n"
     ]
    }
   ],
   "source": [
    "print(a,b,c, sep=\"\\n\")"
   ]
  },
  {
   "cell_type": "code",
   "execution_count": 24,
   "id": "52c98131",
   "metadata": {},
   "outputs": [
    {
     "name": "stdout",
     "output_type": "stream",
     "text": [
      "10\tTrue\tHello\n"
     ]
    }
   ],
   "source": [
    "print(a,b,c,sep=\"\\t\")"
   ]
  },
  {
   "cell_type": "code",
   "execution_count": 28,
   "id": "fb4cc9ed",
   "metadata": {},
   "outputs": [],
   "source": [
    "sample = open(\"greet.txt\",mode=\"w\")\n",
    "\n",
    "print(\"September 30 Python session\",file=sample)\n",
    "\n",
    "a= 10\n",
    "b = 20\n",
    "print(f\"Addition of {a} and {b } = {a+b}\", file = sample)\n"
   ]
  },
  {
   "cell_type": "code",
   "execution_count": 21,
   "id": "62243d8b",
   "metadata": {},
   "outputs": [
    {
     "name": "stdout",
     "output_type": "stream",
     "text": [
      "304\n",
      "10\n"
     ]
    }
   ],
   "source": [
    "scores = [10,20,304,20,302,20] #list\n",
    "\n",
    "for data in scores:\n",
    "    print(data, end = \",\")\n",
    "\n",
    "print(max(scores))\n",
    "print(min(scores))"
   ]
  },
  {
   "cell_type": "code",
   "execution_count": 23,
   "id": "09a91af4",
   "metadata": {},
   "outputs": [
    {
     "name": "stdout",
     "output_type": "stream",
     "text": [
      "10\n"
     ]
    }
   ],
   "source": [
    "big = scores[0]\n",
    "\n",
    "for i in range(1,len(scores)):\n",
    "    if(scores[i] < big):\n",
    "        big = scores[i]\n",
    "        \n",
    "print(big)"
   ]
  },
  {
   "cell_type": "code",
   "execution_count": null,
   "id": "283ed271",
   "metadata": {},
   "outputs": [],
   "source": [
    "name = \"Anil K Rajamoni\"\n",
    "\n",
    "for d in name:\n",
    "    print(d , end = \"\")"
   ]
  },
  {
   "cell_type": "markdown",
   "id": "de3515ab",
   "metadata": {},
   "source": [
    "###  comments\n"
   ]
  },
  {
   "cell_type": "code",
   "execution_count": null,
   "id": "9176f33c",
   "metadata": {},
   "outputs": [],
   "source": [
    "# single \n",
    " ''' ''' - mutliple line comment"
   ]
  },
  {
   "cell_type": "code",
   "execution_count": null,
   "id": "d6decbfb",
   "metadata": {},
   "outputs": [],
   "source": [
    "# print(\"Helloo\")\n",
    "# print(\"PythonSEssion\")\n",
    "\n",
    "#cnt+/ = to \n",
    "# snllsmlsm sjlsn sklslns \n",
    "\n",
    "'''\n",
    "skhkls\n",
    "sjbknks\n",
    "snjknls\n",
    "sjksnlks2987921\n",
    "2802u10sn\n",
    "'''\n",
    "\n",
    "print(\"Hello\")"
   ]
  },
  {
   "cell_type": "markdown",
   "id": "33952ac8",
   "metadata": {},
   "source": [
    "#### Variables "
   ]
  },
  {
   "cell_type": "code",
   "execution_count": null,
   "id": "8a44eae1",
   "metadata": {},
   "outputs": [],
   "source": [
    "# IN OTHER LANG\n",
    "\n",
    "<datatype> <variable_name > = <value> \n",
    "\n",
    "int age = 22; #jave , c , c++ \n",
    "\n",
    "age = 22 #python"
   ]
  },
  {
   "cell_type": "markdown",
   "id": "90ca3ae6",
   "metadata": {},
   "source": [
    "### RULES\n",
    "\n",
    "- Must Start with ALPHA(a-z)(A-Z) , _\n",
    "- Can't start with NUMERIC (0-9)\n",
    "-  A Variable = APLHA + NUMERIC + _ \n",
    "- A Variable can't have same name as KEYWORDS or Python Reserved words.\n",
    "- CASE SENSTITIVE"
   ]
  },
  {
   "cell_type": "code",
   "execution_count": null,
   "id": "460107d3",
   "metadata": {},
   "outputs": [],
   "source": [
    "# <variable_name > = <value>\n",
    "\n",
    "name = \"Python session\"\n",
    "\n",
    "print(name)\n",
    "print(type(name))"
   ]
  },
  {
   "cell_type": "code",
   "execution_count": null,
   "id": "2a938cd8",
   "metadata": {},
   "outputs": [],
   "source": [
    "name = 10\n",
    "print(name, type(name))"
   ]
  },
  {
   "cell_type": "code",
   "execution_count": null,
   "id": "d41531ca",
   "metadata": {},
   "outputs": [],
   "source": [
    "name = 10.1\n",
    "print(name, type(name))"
   ]
  },
  {
   "cell_type": "code",
   "execution_count": null,
   "id": "5ee7bb47",
   "metadata": {},
   "outputs": [],
   "source": [
    "name = True\n",
    "print(name, type(name))"
   ]
  },
  {
   "cell_type": "code",
   "execution_count": null,
   "id": "dc2d76cf",
   "metadata": {},
   "outputs": [],
   "source": [
    "name = 1+2j\n",
    "print(name, type(name))"
   ]
  },
  {
   "cell_type": "code",
   "execution_count": null,
   "id": "c9bbf74a",
   "metadata": {},
   "outputs": [],
   "source": [
    "name = [10]\n",
    "print(name, type(name))"
   ]
  },
  {
   "cell_type": "code",
   "execution_count": null,
   "id": "fddd6e41",
   "metadata": {},
   "outputs": [],
   "source": [
    "name = (10,)\n",
    "print(name, type(name))"
   ]
  },
  {
   "cell_type": "code",
   "execution_count": null,
   "id": "34ceac53",
   "metadata": {},
   "outputs": [],
   "source": [
    "name = {10}\n",
    "print(name, type(name))"
   ]
  },
  {
   "cell_type": "code",
   "execution_count": null,
   "id": "bb171ffe",
   "metadata": {},
   "outputs": [],
   "source": [
    "name = {10:10}\n",
    "print(name, type(name))"
   ]
  },
  {
   "cell_type": "code",
   "execution_count": null,
   "id": "725396a0",
   "metadata": {},
   "outputs": [],
   "source": [
    "import keyword\n",
    "\n",
    "print(keyword.kwlist)\n",
    "print(len(keyword.kwlist))"
   ]
  },
  {
   "cell_type": "code",
   "execution_count": null,
   "id": "c783b386",
   "metadata": {},
   "outputs": [],
   "source": [
    "print = 10 #wrong way"
   ]
  },
  {
   "cell_type": "code",
   "execution_count": null,
   "id": "23e034eb",
   "metadata": {},
   "outputs": [],
   "source": [
    "print(\"Hello\")"
   ]
  },
  {
   "cell_type": "code",
   "execution_count": null,
   "id": "51afcc20",
   "metadata": {},
   "outputs": [],
   "source": [
    "while = 10"
   ]
  },
  {
   "cell_type": "code",
   "execution_count": null,
   "id": "4a1550fc",
   "metadata": {},
   "outputs": [],
   "source": [
    "while_ =10\n",
    "print(while_)"
   ]
  },
  {
   "cell_type": "code",
   "execution_count": null,
   "id": "86d897c3",
   "metadata": {},
   "outputs": [],
   "source": [
    "_ = 1012\n",
    "print(_,type(_))"
   ]
  },
  {
   "cell_type": "code",
   "execution_count": null,
   "id": "5a53e3ed",
   "metadata": {},
   "outputs": [],
   "source": [
    "98_age = 10\n"
   ]
  },
  {
   "cell_type": "code",
   "execution_count": null,
   "id": "c1b6bcee",
   "metadata": {},
   "outputs": [],
   "source": [
    "age_98 = 20\n",
    "print(age_98)"
   ]
  },
  {
   "cell_type": "code",
   "execution_count": null,
   "id": "3aa0642d",
   "metadata": {},
   "outputs": [],
   "source": [
    "# type(var)  - to know data type\n",
    "#  id(var)  - to know memory addr"
   ]
  },
  {
   "cell_type": "code",
   "execution_count": null,
   "id": "06f9f551",
   "metadata": {},
   "outputs": [],
   "source": [
    "age = 20\n",
    "AGE = 22\n",
    "print(id(age), id(AGE))"
   ]
  },
  {
   "cell_type": "code",
   "execution_count": null,
   "id": "057ebcf2",
   "metadata": {},
   "outputs": [],
   "source": [
    "a=10\n",
    "A=10\n",
    "print(id(a) ,id(A))"
   ]
  },
  {
   "cell_type": "code",
   "execution_count": null,
   "id": "7854b79f",
   "metadata": {},
   "outputs": [],
   "source": [
    "a=10\n",
    "b=10\n",
    "c=10\n",
    "\n",
    "c=d=e=101 #assign single mutliple variable\n",
    "print(c,d,e)"
   ]
  },
  {
   "cell_type": "code",
   "execution_count": null,
   "id": "c71ae923",
   "metadata": {},
   "outputs": [],
   "source": [
    "a,b, c = 10,11,12 ##assign mutliple to  mutliple variable\n",
    "print(a,c,b)\n"
   ]
  },
  {
   "cell_type": "code",
   "execution_count": null,
   "id": "d4745277",
   "metadata": {},
   "outputs": [],
   "source": [
    "movie_actor = \"Tom Hanks\"\n",
    "print(movie_actor , type(movie_actor) , id(movie_actor))"
   ]
  },
  {
   "cell_type": "code",
   "execution_count": null,
   "id": "7d173704",
   "metadata": {},
   "outputs": [],
   "source": []
  },
  {
   "cell_type": "code",
   "execution_count": null,
   "id": "c6da1d03",
   "metadata": {},
   "outputs": [],
   "source": [
    "print(print(\"Hello\")) \n",
    "\n",
    "# return type of print() is None"
   ]
  },
  {
   "cell_type": "code",
   "execution_count": null,
   "id": "27d7abe7",
   "metadata": {},
   "outputs": [],
   "source": [
    "def printName():\n",
    "    print(\"Hi Welcome July Python\")\n",
    "\n",
    "printName()\n",
    "\n"
   ]
  },
  {
   "cell_type": "code",
   "execution_count": null,
   "id": "74bd1ae9",
   "metadata": {},
   "outputs": [],
   "source": [
    "print(printName())"
   ]
  },
  {
   "cell_type": "code",
   "execution_count": null,
   "id": "c8c5f101",
   "metadata": {},
   "outputs": [],
   "source": [
    "def printName():\n",
    "    print(\"Hi Welcome July Python\")\n",
    "    return \"CHARLIE\"\n",
    "\n",
    "print(printName())"
   ]
  },
  {
   "cell_type": "code",
   "execution_count": null,
   "id": "e64e31af",
   "metadata": {},
   "outputs": [],
   "source": [
    "def printName():\n",
    "    print(\"Hi Welcome July Python\")\n",
    "    return \"CHARLIE\"\n",
    "\n",
    "a = printName()\n",
    "print(a)"
   ]
  },
  {
   "cell_type": "code",
   "execution_count": null,
   "id": "a93284c7",
   "metadata": {},
   "outputs": [],
   "source": [
    "print()"
   ]
  },
  {
   "cell_type": "code",
   "execution_count": null,
   "id": "177aafc1",
   "metadata": {},
   "outputs": [],
   "source": [
    "a=10\n",
    "print(\"HY\")\n",
    "print() #empty line\n",
    "print()\n",
    "print(a)"
   ]
  },
  {
   "cell_type": "code",
   "execution_count": null,
   "id": "5c49e17d",
   "metadata": {},
   "outputs": [],
   "source": [
    "print(print(print()))"
   ]
  },
  {
   "cell_type": "markdown",
   "id": "4d2ff0cc",
   "metadata": {},
   "source": [
    "### Data types"
   ]
  },
  {
   "cell_type": "code",
   "execution_count": null,
   "id": "bf73514d",
   "metadata": {},
   "outputs": [],
   "source": [
    "int_var = 10\n",
    "print(int_var,type(int_var))"
   ]
  },
  {
   "cell_type": "code",
   "execution_count": null,
   "id": "022769b1",
   "metadata": {},
   "outputs": [],
   "source": [
    "print(bin(10))"
   ]
  },
  {
   "cell_type": "code",
   "execution_count": null,
   "id": "b620cceb",
   "metadata": {},
   "outputs": [],
   "source": [
    "print(oct(10))"
   ]
  },
  {
   "cell_type": "code",
   "execution_count": null,
   "id": "4ba41538",
   "metadata": {},
   "outputs": [],
   "source": [
    "print(hex(15))"
   ]
  },
  {
   "cell_type": "code",
   "execution_count": null,
   "id": "90800f60",
   "metadata": {},
   "outputs": [],
   "source": [
    "print(0xF+0B0111)"
   ]
  },
  {
   "cell_type": "code",
   "execution_count": null,
   "id": "8afcd1e9",
   "metadata": {},
   "outputs": [],
   "source": [
    "float_var =1.0\n",
    "\n",
    "print(float_var)\n",
    "print(type(float_var))"
   ]
  },
  {
   "cell_type": "code",
   "execution_count": null,
   "id": "007a95fe",
   "metadata": {},
   "outputs": [],
   "source": [
    "float_var = 3.4e-5\n",
    "print(float_var)"
   ]
  },
  {
   "cell_type": "code",
   "execution_count": null,
   "id": "abdf4455",
   "metadata": {},
   "outputs": [],
   "source": [
    "print(10/0.0)"
   ]
  },
  {
   "cell_type": "code",
   "execution_count": null,
   "id": "a0a768f4",
   "metadata": {},
   "outputs": [],
   "source": [
    "# x+iy\n",
    "#  x is integer y is imag \n",
    "\n",
    "com_var = 2+3j"
   ]
  },
  {
   "cell_type": "code",
   "execution_count": null,
   "id": "e80eb21a",
   "metadata": {},
   "outputs": [],
   "source": [
    "print(com_var,type(com_var))"
   ]
  },
  {
   "cell_type": "code",
   "execution_count": null,
   "id": "f9a4e2dd",
   "metadata": {},
   "outputs": [],
   "source": [
    "print(dir(com_var))"
   ]
  },
  {
   "cell_type": "code",
   "execution_count": null,
   "id": "1c248672",
   "metadata": {},
   "outputs": [],
   "source": [
    "com_var.real"
   ]
  },
  {
   "cell_type": "code",
   "execution_count": null,
   "id": "30964807",
   "metadata": {},
   "outputs": [],
   "source": [
    "com_var.imag"
   ]
  },
  {
   "cell_type": "code",
   "execution_count": null,
   "id": "122ecd8b",
   "metadata": {},
   "outputs": [],
   "source": [
    "com_var.conjugate().conjugate()"
   ]
  },
  {
   "cell_type": "code",
   "execution_count": null,
   "id": "a8d9613b",
   "metadata": {},
   "outputs": [],
   "source": [
    "str_a = \"10\"\n",
    "\n",
    "print(int(str_a))\n",
    "\n",
    "a = 10\n",
    "print(type(str(a)))"
   ]
  },
  {
   "cell_type": "markdown",
   "id": "e635f435",
   "metadata": {},
   "source": [
    "### conversions\n"
   ]
  },
  {
   "cell_type": "code",
   "execution_count": null,
   "id": "b8ed1d83",
   "metadata": {},
   "outputs": [],
   "source": [
    "#int - str"
   ]
  },
  {
   "cell_type": "code",
   "execution_count": null,
   "id": "06cd68b6",
   "metadata": {},
   "outputs": [],
   "source": [
    "a = 100101 \n",
    "s = str(a)\n",
    "print(s,type(s))"
   ]
  },
  {
   "cell_type": "code",
   "execution_count": null,
   "id": "3513bbef",
   "metadata": {},
   "outputs": [],
   "source": [
    "s.count(\"0\")"
   ]
  },
  {
   "cell_type": "code",
   "execution_count": null,
   "id": "030ad93e",
   "metadata": {},
   "outputs": [],
   "source": [
    "#float - str"
   ]
  },
  {
   "cell_type": "code",
   "execution_count": null,
   "id": "526571af",
   "metadata": {},
   "outputs": [],
   "source": [
    "f = 10.189289829\n",
    "\n",
    "s = str(f)\n",
    "\n",
    "print(s,type(s))"
   ]
  },
  {
   "cell_type": "code",
   "execution_count": null,
   "id": "516b32ef",
   "metadata": {},
   "outputs": [],
   "source": []
  },
  {
   "cell_type": "code",
   "execution_count": null,
   "id": "69c241d0",
   "metadata": {},
   "outputs": [],
   "source": [
    "#complex - str "
   ]
  },
  {
   "cell_type": "code",
   "execution_count": null,
   "id": "c7885e38",
   "metadata": {},
   "outputs": [],
   "source": [
    "c = 1+2j\n",
    "\n",
    "s = str(c)\n",
    "print(s,type(s))"
   ]
  },
  {
   "cell_type": "code",
   "execution_count": null,
   "id": "6953b26c",
   "metadata": {},
   "outputs": [],
   "source": [
    "#boolean - str"
   ]
  },
  {
   "cell_type": "code",
   "execution_count": null,
   "id": "90aa6b66",
   "metadata": {},
   "outputs": [],
   "source": [
    "b = True\n",
    "\n",
    "s = str(b)\n",
    "print(s,type(s))\n",
    "\n",
    "print(s[2])"
   ]
  },
  {
   "cell_type": "code",
   "execution_count": null,
   "id": "ef54062b",
   "metadata": {},
   "outputs": [],
   "source": [
    "#int - float \n",
    "\n",
    "i = 10\n",
    "\n",
    "f = float(i)\n",
    "print(i)"
   ]
  },
  {
   "cell_type": "code",
   "execution_count": null,
   "id": "971d9b00",
   "metadata": {},
   "outputs": [],
   "source": [
    "f = 10.2\n",
    "\n",
    "i = int(f)\n",
    "\n",
    "print(i)"
   ]
  },
  {
   "cell_type": "code",
   "execution_count": null,
   "id": "19dd5f27",
   "metadata": {},
   "outputs": [],
   "source": [
    "#str - int\n",
    "\n",
    "s = \"110182892\"\n",
    "\n",
    "i = int(s)\n",
    "\n",
    "print(i , type(i))"
   ]
  },
  {
   "cell_type": "code",
   "execution_count": null,
   "id": "8edb0fa4",
   "metadata": {},
   "outputs": [],
   "source": [
    "#str - float\n",
    "\n",
    "s = \"10.2920802\"\n",
    "\n",
    "f = float(s)\n",
    "\n",
    "print(f)"
   ]
  },
  {
   "cell_type": "code",
   "execution_count": null,
   "id": "73672a54",
   "metadata": {},
   "outputs": [],
   "source": [
    "lst = [10,20,30,40,50,40,10]\n",
    "\n",
    "tup = tuple(lst)\n",
    "\n",
    "print(tup)"
   ]
  },
  {
   "cell_type": "code",
   "execution_count": null,
   "id": "28fbfb2c",
   "metadata": {},
   "outputs": [],
   "source": [
    "st = set(lst)\n",
    "print(st)"
   ]
  },
  {
   "cell_type": "code",
   "execution_count": null,
   "id": "78365e6d",
   "metadata": {},
   "outputs": [],
   "source": [
    "#built -in\n",
    "\n",
    "# type()\n",
    "# id()\n",
    "# dir()\n",
    "# len()\n",
    "# chr()\n",
    "# ord()\n",
    "# max()\n",
    "# min()\n",
    "# abs()\n",
    "# sum()\n",
    "\n",
    "print(dir(tup))"
   ]
  },
  {
   "cell_type": "code",
   "execution_count": null,
   "id": "9638f938",
   "metadata": {},
   "outputs": [],
   "source": [
    "a,b=10,20\n",
    "list_var = [10,20,40,5,28,90,220] #list , iterable(which has location)\n",
    "print(max(a,b))\n",
    "print(min(list_var))\n",
    "print(max(list_var))\n",
    "print(sum(list_var))"
   ]
  },
  {
   "cell_type": "code",
   "execution_count": null,
   "id": "d35ae81f",
   "metadata": {},
   "outputs": [],
   "source": [
    "a = 1.6782\n",
    "\n",
    "round(a)"
   ]
  },
  {
   "cell_type": "code",
   "execution_count": null,
   "id": "6e693764",
   "metadata": {},
   "outputs": [],
   "source": [
    "abs(-17822)"
   ]
  },
  {
   "cell_type": "code",
   "execution_count": null,
   "id": "ccb2c04f",
   "metadata": {},
   "outputs": [],
   "source": [
    "pow(2,8)"
   ]
  },
  {
   "cell_type": "code",
   "execution_count": null,
   "id": "d656524d",
   "metadata": {},
   "outputs": [],
   "source": [
    "print(2**8)"
   ]
  },
  {
   "cell_type": "code",
   "execution_count": null,
   "id": "d1128baa",
   "metadata": {},
   "outputs": [],
   "source": [
    "arr = [10,20 ,30]\n",
    "print(\"Sum = \" , sum(arr))\n",
    "print(\"Length is \" , len(arr))\n",
    "avg = sum(arr)/len(arr)\n",
    "print(avg)"
   ]
  },
  {
   "cell_type": "code",
   "execution_count": null,
   "id": "000abd15",
   "metadata": {},
   "outputs": [],
   "source": [
    "sample = open(\"demo.txt\",mode =\"a\")\n",
    "print(\"Hello Geeks for Geeks\", file = sample )"
   ]
  },
  {
   "cell_type": "markdown",
   "id": "e0566ffa",
   "metadata": {},
   "source": [
    "### input()"
   ]
  },
  {
   "cell_type": "code",
   "execution_count": null,
   "id": "40de392e",
   "metadata": {},
   "outputs": [],
   "source": [
    "name = input(\"Enter the username: \")\n",
    "\n",
    "print(name)\n",
    "print(type(name))"
   ]
  },
  {
   "cell_type": "code",
   "execution_count": null,
   "id": "3cd45f94",
   "metadata": {},
   "outputs": [],
   "source": [
    "num = input()\n",
    "\n",
    "print(num,type(num))\n",
    "\n",
    "\n",
    "num = int(num)\n",
    "\n",
    "print(num,type(num))"
   ]
  },
  {
   "cell_type": "code",
   "execution_count": null,
   "id": "23911bc1",
   "metadata": {},
   "outputs": [],
   "source": [
    "num = input()\n",
    "\n",
    "print(num,type(num))\n",
    "\n",
    "\n",
    "num = float(num)\n",
    "\n",
    "print(num,type(num))"
   ]
  },
  {
   "cell_type": "code",
   "execution_count": null,
   "id": "f9bbb5bb",
   "metadata": {},
   "outputs": [],
   "source": [
    "\n",
    "num = int(input())\n",
    "\n",
    "print(num, type(num))"
   ]
  },
  {
   "cell_type": "code",
   "execution_count": null,
   "id": "a62e3065",
   "metadata": {},
   "outputs": [],
   "source": [
    "\n",
    "num = float(input())\n",
    "\n",
    "print(num, type(num))"
   ]
  },
  {
   "cell_type": "code",
   "execution_count": null,
   "id": "caed8ee0",
   "metadata": {},
   "outputs": [],
   "source": [
    "\n",
    "num = bool(input())\n",
    "\n",
    "print(num, type(num))"
   ]
  },
  {
   "cell_type": "code",
   "execution_count": null,
   "id": "0d01a7c5",
   "metadata": {},
   "outputs": [],
   "source": [
    "\n",
    "num = complex(input())\n",
    "\n",
    "print(num, type(num))"
   ]
  },
  {
   "cell_type": "markdown",
   "id": "92a9a3d2",
   "metadata": {},
   "source": [
    "### Sequence \n",
    "\n",
    "- list\n",
    "- tuple\n",
    "- set "
   ]
  },
  {
   "cell_type": "code",
   "execution_count": null,
   "id": "f4c72c0b",
   "metadata": {},
   "outputs": [],
   "source": [
    "#list \n",
    "\n",
    "friends = [\"f1\",\"f2\",\"f3\",\"f4\",\"f5\",\"f6\",\"f7\",\"f8\",\"f9\",\"f10\"]\n",
    "\n",
    "print(friends)"
   ]
  },
  {
   "cell_type": "code",
   "execution_count": null,
   "id": "a76e1799",
   "metadata": {},
   "outputs": [],
   "source": [
    "print(len(friends)) #0-9"
   ]
  },
  {
   "cell_type": "code",
   "execution_count": null,
   "id": "b3e05e8d",
   "metadata": {},
   "outputs": [],
   "source": [
    "print(friends[0])"
   ]
  },
  {
   "cell_type": "code",
   "execution_count": null,
   "id": "2437bb87",
   "metadata": {},
   "outputs": [],
   "source": [
    "print(friends[-1])"
   ]
  },
  {
   "cell_type": "code",
   "execution_count": null,
   "id": "6da8ee4e",
   "metadata": {},
   "outputs": [],
   "source": [
    "print(friends[-11])"
   ]
  },
  {
   "cell_type": "code",
   "execution_count": null,
   "id": "54adbb4d",
   "metadata": {},
   "outputs": [],
   "source": [
    "friends[2] = \"Marry\"\n",
    "\n",
    "print(friends)"
   ]
  },
  {
   "cell_type": "code",
   "execution_count": null,
   "id": "3ba0ade2",
   "metadata": {},
   "outputs": [],
   "source": [
    "friends[12] = \"Marry\"\n",
    "\n",
    "print(friends)"
   ]
  },
  {
   "cell_type": "code",
   "execution_count": null,
   "id": "605c6416",
   "metadata": {},
   "outputs": [],
   "source": [
    "#tuple\n",
    "\n",
    "courses = (\"py\",\"java\",\"scala\",\"ruby\")\n",
    "\n",
    "print(courses , type(courses), id(courses),len(courses))"
   ]
  },
  {
   "cell_type": "code",
   "execution_count": null,
   "id": "c2f5f9c2",
   "metadata": {},
   "outputs": [],
   "source": [
    "courses[-11]"
   ]
  },
  {
   "cell_type": "code",
   "execution_count": null,
   "id": "3eb9bb9b",
   "metadata": {},
   "outputs": [],
   "source": [
    "courses[0] =\"python\""
   ]
  },
  {
   "cell_type": "code",
   "execution_count": null,
   "id": "effeaa70",
   "metadata": {},
   "outputs": [],
   "source": [
    "print(dir(courses))"
   ]
  },
  {
   "cell_type": "code",
   "execution_count": null,
   "id": "c2cc3040",
   "metadata": {},
   "outputs": [],
   "source": [
    "courses.count(\"ruby\")"
   ]
  },
  {
   "cell_type": "code",
   "execution_count": null,
   "id": "fa604755",
   "metadata": {},
   "outputs": [],
   "source": [
    "#range()\n",
    "\n",
    "# start = 0\n",
    "# step =1\n",
    "# stop = len\n",
    "\n",
    "list(range(1,10,1)) #stop is exclusive"
   ]
  },
  {
   "cell_type": "code",
   "execution_count": null,
   "id": "c90ed65d",
   "metadata": {},
   "outputs": [],
   "source": [
    "list(range(10))"
   ]
  },
  {
   "cell_type": "code",
   "execution_count": null,
   "id": "297242a8",
   "metadata": {},
   "outputs": [],
   "source": [
    "list(range(1,10,3))"
   ]
  },
  {
   "cell_type": "code",
   "execution_count": null,
   "id": "86478860",
   "metadata": {},
   "outputs": [],
   "source": [
    "list(range(-1,10,-1))"
   ]
  },
  {
   "cell_type": "code",
   "execution_count": null,
   "id": "26f2164c",
   "metadata": {},
   "outputs": [],
   "source": [
    "list(range(1,20,2))"
   ]
  },
  {
   "cell_type": "code",
   "execution_count": null,
   "id": "248b8787",
   "metadata": {},
   "outputs": [],
   "source": [
    "\n",
    "l=[0]*10\n",
    "print(l)"
   ]
  },
  {
   "cell_type": "code",
   "execution_count": null,
   "id": "7608c1f0",
   "metadata": {},
   "outputs": [],
   "source": [
    "\n",
    "l=[]\n",
    "\n",
    "\n",
    "l[0] = 10\n",
    "\n",
    "print(l)"
   ]
  },
  {
   "cell_type": "code",
   "execution_count": null,
   "id": "08deb452",
   "metadata": {},
   "outputs": [],
   "source": [
    "a = [1,23,3]\n",
    "b=[10.1,11.21,78.2]\n",
    "\n",
    "c=[]\n",
    "print(c)\n",
    "\n",
    "c.append(a[0]+b[0]) #0\n",
    "c.append(a[1]+b[1]) #1\n",
    "c.append(a[2]+b[2]) #2\n",
    "print(c)"
   ]
  },
  {
   "cell_type": "code",
   "execution_count": null,
   "id": "e22792ed",
   "metadata": {},
   "outputs": [],
   "source": [
    "# set()\n",
    "\n",
    "s = {\"a\",\"b\",\"c\",\"d\",\"a\"}\n",
    "print(s)"
   ]
  },
  {
   "cell_type": "code",
   "execution_count": null,
   "id": "2e618428",
   "metadata": {},
   "outputs": [],
   "source": [
    "\n",
    "s=\"ANILKRAJAMONIKUMAR\"\n",
    "print(set(s))"
   ]
  },
  {
   "cell_type": "code",
   "execution_count": null,
   "id": "790b41e3",
   "metadata": {},
   "outputs": [],
   "source": [
    "s[0]"
   ]
  },
  {
   "cell_type": "code",
   "execution_count": null,
   "id": "df4c5a9f",
   "metadata": {},
   "outputs": [],
   "source": [
    "# {key:value}\n",
    "\n",
    "student = {\n",
    "        \"name\" : \"Marry\",\n",
    "        \"course\" :\"python\",\n",
    "        \"fee\":1000\n",
    "}"
   ]
  },
  {
   "cell_type": "code",
   "execution_count": null,
   "id": "8188cb17",
   "metadata": {},
   "outputs": [],
   "source": [
    "print(student)"
   ]
  },
  {
   "cell_type": "code",
   "execution_count": null,
   "id": "a98b472f",
   "metadata": {},
   "outputs": [],
   "source": [
    "# {key:value}\n",
    "\n",
    "# keys should immutables data types \n",
    "# tuple\n",
    "# str\n",
    "#  int , float , complex , boolean\n",
    "\n",
    "student = {\n",
    "        [\"name\"] : \"Marry\",\n",
    "        \"course\" :\"python\",\n",
    "        \"fee\":1000\n",
    "}"
   ]
  },
  {
   "cell_type": "code",
   "execution_count": null,
   "id": "b5b1e85c",
   "metadata": {},
   "outputs": [],
   "source": [
    "student = {\n",
    "        (\"name\") : \"Marry\",\n",
    "        \"course\" :\"python\",\n",
    "        \"fee\":1000,\n",
    "        10:10,\n",
    "        True:\"Boolen\",\n",
    "        10+2j : \"complex\"\n",
    "}"
   ]
  },
  {
   "cell_type": "code",
   "execution_count": null,
   "id": "b0be6af4",
   "metadata": {},
   "outputs": [],
   "source": [
    "student[True]"
   ]
  },
  {
   "cell_type": "code",
   "execution_count": null,
   "id": "fa347954",
   "metadata": {},
   "outputs": [],
   "source": [
    "student[10]"
   ]
  },
  {
   "cell_type": "code",
   "execution_count": null,
   "id": "66a32d77",
   "metadata": {},
   "outputs": [],
   "source": [
    "student[(\"name\")]"
   ]
  },
  {
   "cell_type": "code",
   "execution_count": null,
   "id": "4cd86157",
   "metadata": {},
   "outputs": [],
   "source": [
    "student[\"fee\"]"
   ]
  },
  {
   "cell_type": "code",
   "execution_count": null,
   "id": "75954bba",
   "metadata": {},
   "outputs": [],
   "source": [
    "student[\"fee1\"]"
   ]
  },
  {
   "cell_type": "code",
   "execution_count": null,
   "id": "28a1b504",
   "metadata": {},
   "outputs": [],
   "source": [
    "student.get(\"fee\")"
   ]
  },
  {
   "cell_type": "code",
   "execution_count": null,
   "id": "c5eace66",
   "metadata": {},
   "outputs": [],
   "source": [
    "student.get(\"fee2\",\"Key is not there\")"
   ]
  },
  {
   "cell_type": "markdown",
   "id": "89350590",
   "metadata": {},
   "source": [
    "#### Sequence Data Type Methods\n"
   ]
  },
  {
   "cell_type": "markdown",
   "id": "2e4dabd5",
   "metadata": {},
   "source": [
    "##### LIST"
   ]
  },
  {
   "cell_type": "code",
   "execution_count": null,
   "id": "2b255201",
   "metadata": {},
   "outputs": [],
   "source": [
    "print(dir([]))"
   ]
  },
  {
   "cell_type": "code",
   "execution_count": null,
   "id": "8233cb8c",
   "metadata": {},
   "outputs": [],
   "source": [
    "companies_stock = [(\"TCS\",3052),(\"infosys\",1320),(\"Accen\",4321),(\"wipro\",498)]"
   ]
  },
  {
   "cell_type": "code",
   "execution_count": null,
   "id": "f6874b7a",
   "metadata": {},
   "outputs": [],
   "source": [
    "print(len(companies_stock))"
   ]
  },
  {
   "cell_type": "code",
   "execution_count": null,
   "id": "04cbe997",
   "metadata": {},
   "outputs": [],
   "source": [
    "print(companies_stock[0])"
   ]
  },
  {
   "cell_type": "code",
   "execution_count": null,
   "id": "f8cd3e5d",
   "metadata": {},
   "outputs": [],
   "source": [
    "print(companies_stock[-1])"
   ]
  },
  {
   "cell_type": "code",
   "execution_count": null,
   "id": "8bd6e819",
   "metadata": {},
   "outputs": [],
   "source": [
    "print(companies_stock[0][0],type(companies_stock[0][0]))"
   ]
  },
  {
   "cell_type": "code",
   "execution_count": null,
   "id": "029848c4",
   "metadata": {},
   "outputs": [],
   "source": [
    "#append()\n",
    "companies_stock.append((\"Google\",686))\n",
    "print(companies_stock)"
   ]
  },
  {
   "cell_type": "code",
   "execution_count": null,
   "id": "1d42da83",
   "metadata": {},
   "outputs": [],
   "source": [
    "companies_stock.append(\"Google\",686)\n",
    "print(companies_stock)"
   ]
  },
  {
   "cell_type": "code",
   "execution_count": null,
   "id": "7f809068",
   "metadata": {},
   "outputs": [],
   "source": [
    "#extend()\n",
    "\n",
    "print([1,3,2]+[\"a\",\"b\",\"c\"])"
   ]
  },
  {
   "cell_type": "code",
   "execution_count": null,
   "id": "6f9ee6a8",
   "metadata": {},
   "outputs": [],
   "source": [
    "companies_stock"
   ]
  },
  {
   "cell_type": "code",
   "execution_count": null,
   "id": "f2044144",
   "metadata": {},
   "outputs": [],
   "source": [
    "companies_stock.extend([(\"Netflix\",298),(\"Ola\",278)])\n",
    "companies_stock"
   ]
  },
  {
   "cell_type": "code",
   "execution_count": null,
   "id": "8871c788",
   "metadata": {},
   "outputs": [],
   "source": [
    "companies_stock.extend(([(\"Netflix\",298),(\"Ola\",278)]))\n",
    "companies_stock"
   ]
  },
  {
   "cell_type": "code",
   "execution_count": null,
   "id": "4863ee63",
   "metadata": {},
   "outputs": [],
   "source": [
    "#insert(loc,data)\n",
    "\n",
    "companies_stock.insert(5,(\"Amazon\",2782))\n",
    "companies_stock"
   ]
  },
  {
   "cell_type": "code",
   "execution_count": null,
   "id": "ad188e1b",
   "metadata": {},
   "outputs": [],
   "source": [
    "companies_stock.insert(0,\"ABC\")\n",
    "companies_stock"
   ]
  },
  {
   "cell_type": "code",
   "execution_count": null,
   "id": "84b7eb9a",
   "metadata": {},
   "outputs": [],
   "source": [
    "companies_stock.insert(15,\"XYZ\")\n",
    "companies_stock"
   ]
  },
  {
   "cell_type": "code",
   "execution_count": null,
   "id": "46d068e6",
   "metadata": {},
   "outputs": [],
   "source": [
    "#index()\n",
    "\n",
    "\n",
    "It_companies = [\"Google\",\"Microsoft\",\"Amazon\",\"Netflix\",\"Ola\",\"TCS\",\"Infosys\",\"TCS\",\"Accenture\"]\n",
    "\n",
    "print(len(It_companies))\n",
    "\n",
    "print(It_companies.index(\"Accenture\"))\n",
    "\n",
    "\n",
    "\n",
    "        \n",
    "print(It_companies.index(\"TCS\"))"
   ]
  },
  {
   "cell_type": "code",
   "execution_count": null,
   "id": "e69363f5",
   "metadata": {},
   "outputs": [],
   "source": [
    "#copy()\n",
    "\n",
    "Dup_companies = It_companies.copy() #Deep copy\n",
    "\n",
    "print(id(Dup_companies),id(It_companies))"
   ]
  },
  {
   "cell_type": "code",
   "execution_count": null,
   "id": "3d567980",
   "metadata": {},
   "outputs": [],
   "source": [
    "It_companies[0] = \"Googe\"\n",
    "print(Dup_companies,It_companies,sep=\"\\n\")"
   ]
  },
  {
   "cell_type": "code",
   "execution_count": null,
   "id": "b3410a4a",
   "metadata": {},
   "outputs": [],
   "source": [
    "#clear() - removes all the elements\n",
    "Dup_companies.clear()\n",
    "\n",
    "print(Dup_companies)"
   ]
  },
  {
   "cell_type": "code",
   "execution_count": null,
   "id": "d4cae7f4",
   "metadata": {},
   "outputs": [],
   "source": [
    "dup2 = It_companies.copy()\n",
    "\n",
    "del dup2 \n",
    "\n",
    "print(dup2)"
   ]
  },
  {
   "cell_type": "code",
   "execution_count": null,
   "id": "0e908ede",
   "metadata": {},
   "outputs": [],
   "source": [
    "print(dir([]))"
   ]
  },
  {
   "cell_type": "code",
   "execution_count": null,
   "id": "037142c7",
   "metadata": {},
   "outputs": [],
   "source": [
    "It_companies.count(\"TCS\")"
   ]
  },
  {
   "cell_type": "code",
   "execution_count": null,
   "id": "58ad7af9",
   "metadata": {},
   "outputs": [],
   "source": [
    "It_companies.count(\"NetflixY\")"
   ]
  },
  {
   "cell_type": "code",
   "execution_count": null,
   "id": "d5710792",
   "metadata": {},
   "outputs": [],
   "source": [
    "It_companies.index(\"ABC\")"
   ]
  },
  {
   "cell_type": "code",
   "execution_count": null,
   "id": "370ee957",
   "metadata": {},
   "outputs": [],
   "source": [
    "#copy() method will create a separate block of memory , so ID's will be different\n",
    "# Changes in one variable will not affect in another variable\n",
    "\n",
    "#alias = both will have memory locations , change in one variable will affect the other variable\n",
    "\n",
    "dup3 = It_companies\n",
    "\n",
    "print(id(dup3),id(It_companies))\n",
    "\n",
    "dup3[0] = \"AK\"\n",
    "\n",
    "print(dup3,It_companies)"
   ]
  },
  {
   "cell_type": "code",
   "execution_count": null,
   "id": "a686703f",
   "metadata": {},
   "outputs": [],
   "source": [
    "#pop(-1) # loc\n",
    "\n",
    "It_companies.pop() #-1 #Last"
   ]
  },
  {
   "cell_type": "code",
   "execution_count": null,
   "id": "3324fa94",
   "metadata": {},
   "outputs": [],
   "source": [
    "popped_item = It_companies.pop(5)\n",
    "print(popped_item)"
   ]
  },
  {
   "cell_type": "code",
   "execution_count": null,
   "id": "ec70ed00",
   "metadata": {},
   "outputs": [],
   "source": [
    "popped_item = It_companies.pop(15)\n",
    "print(popped_item)"
   ]
  },
  {
   "cell_type": "code",
   "execution_count": null,
   "id": "badcceca",
   "metadata": {},
   "outputs": [],
   "source": [
    "#remove()\n",
    "\n",
    "It_companies.remove(\"Ola\")"
   ]
  },
  {
   "cell_type": "code",
   "execution_count": null,
   "id": "d9f33486",
   "metadata": {},
   "outputs": [],
   "source": [
    "It_companies"
   ]
  },
  {
   "cell_type": "code",
   "execution_count": null,
   "id": "fe5303e0",
   "metadata": {},
   "outputs": [],
   "source": [
    "remove_item = It_companies.remove(\"Amazon\")\n",
    "\n",
    "print(remove_item)"
   ]
  },
  {
   "cell_type": "code",
   "execution_count": null,
   "id": "9c28c54a",
   "metadata": {},
   "outputs": [],
   "source": [
    "It_companies"
   ]
  },
  {
   "cell_type": "code",
   "execution_count": null,
   "id": "5c1c595e",
   "metadata": {},
   "outputs": [],
   "source": [
    "It_companies.reverse()"
   ]
  },
  {
   "cell_type": "code",
   "execution_count": null,
   "id": "c4a1d9d4",
   "metadata": {},
   "outputs": [],
   "source": [
    "It_companies"
   ]
  },
  {
   "cell_type": "code",
   "execution_count": null,
   "id": "ee1e24ae",
   "metadata": {},
   "outputs": [],
   "source": [
    "It_companies.append(\"abc\")\n",
    "It_companies.extend([\"Kia\",\"coorg\",\"absy\"])\n",
    "\n",
    "It_companies"
   ]
  },
  {
   "cell_type": "code",
   "execution_count": null,
   "id": "721f0abf",
   "metadata": {},
   "outputs": [],
   "source": [
    "print(ord(\"a\"),ord(\"A\"))"
   ]
  },
  {
   "cell_type": "code",
   "execution_count": null,
   "id": "a992a5ee",
   "metadata": {},
   "outputs": [],
   "source": [
    "It_companies.sort() #ascii"
   ]
  },
  {
   "cell_type": "code",
   "execution_count": null,
   "id": "83553e73",
   "metadata": {},
   "outputs": [],
   "source": [
    "It_companies"
   ]
  },
  {
   "cell_type": "code",
   "execution_count": null,
   "id": "372f5a25",
   "metadata": {},
   "outputs": [],
   "source": [
    "It_companies.sort(reverse=True)\n",
    "It_companies"
   ]
  },
  {
   "cell_type": "code",
   "execution_count": null,
   "id": "ef68881d",
   "metadata": {},
   "outputs": [],
   "source": [
    "dir(It_companies)"
   ]
  },
  {
   "cell_type": "code",
   "execution_count": null,
   "id": "02e5a3bd",
   "metadata": {},
   "outputs": [],
   "source": [
    "# all list methods\n",
    "append() # only 1\n",
    "extend() # more than 1 or add list to the tail of the another tail\n",
    "count()\n",
    "index()\n",
    "sort()\n",
    "reverse()\n",
    "copy()\n",
    "\n",
    "\n",
    "\n",
    "#insertion of data\n",
    "append()\n",
    "extend()\n",
    "insert()\n",
    "\n",
    "#deletion\n",
    "\n",
    "remove() #based onvalues\n",
    "clear() #all\n",
    "pop() #based on loc  #default = -1\n",
    "\n",
    "#sorting\n",
    "sort() #revere=True (desc)  , False = ascen\n",
    "\n",
    "#copy\n",
    "copy()\n",
    "\n",
    "#index and counting\n",
    "\n",
    "index()\n",
    "count()\n"
   ]
  },
  {
   "cell_type": "markdown",
   "id": "5acd30b0",
   "metadata": {},
   "source": [
    "##### Tuple"
   ]
  },
  {
   "cell_type": "code",
   "execution_count": null,
   "id": "689b8319",
   "metadata": {},
   "outputs": [],
   "source": [
    "print(dir(()))"
   ]
  },
  {
   "cell_type": "code",
   "execution_count": null,
   "id": "ae5998e5",
   "metadata": {},
   "outputs": [],
   "source": [
    "class A:\n",
    "    def __int__(self):\n",
    "        self.lst=[]\n",
    "    def m1(self):\n",
    "        print(\"Iam M1\")\n",
    "    def __str__(self):\n",
    "        return \"Iam String version of object\"\n",
    "    \n",
    "    def __add__(self,a):\n",
    "        self.lst=[]\n",
    "        return self.lst.append(a)\n",
    "       \n",
    "    \n",
    "a = A()\n",
    "\n",
    "a.m1()\n",
    "\n",
    "print(a)\n",
    "\n",
    "print(a+[1,21])\n",
    "print(a.lst)"
   ]
  },
  {
   "cell_type": "code",
   "execution_count": null,
   "id": "a5595014",
   "metadata": {},
   "outputs": [],
   "source": [
    "thistuple = (1, 3, 7, 8, 7, 5, 4, 6, 8, 5)\n",
    "\n",
    "x = thistuple.count(5)\n",
    "\n",
    "print(x)\n",
    "print(thistuple.count(5))"
   ]
  },
  {
   "cell_type": "code",
   "execution_count": null,
   "id": "83b5d20e",
   "metadata": {},
   "outputs": [],
   "source": [
    "thistuple.count(50)"
   ]
  },
  {
   "cell_type": "code",
   "execution_count": null,
   "id": "a5dcdc39",
   "metadata": {},
   "outputs": [],
   "source": [
    "thistuple.index(50)"
   ]
  },
  {
   "cell_type": "markdown",
   "id": "392377f8",
   "metadata": {},
   "source": [
    "### set methods"
   ]
  },
  {
   "cell_type": "code",
   "execution_count": null,
   "id": "5b531aea",
   "metadata": {},
   "outputs": [],
   "source": [
    "s = {'a',\"b\"}\n",
    "print(dir(s))"
   ]
  },
  {
   "cell_type": "code",
   "execution_count": null,
   "id": "0d28f86f",
   "metadata": {},
   "outputs": [],
   "source": [
    "fruits = {\"apple\", \"banana\", \"cherry\"}\n",
    "\n",
    "fruits.add(\"orange\")\n",
    "\n",
    "print(fruits)"
   ]
  },
  {
   "cell_type": "code",
   "execution_count": null,
   "id": "9faee5d0",
   "metadata": {},
   "outputs": [],
   "source": [
    "\n",
    "\n",
    "fruits.add(\"orange1\")\n",
    "\n",
    "print(fruits)\n",
    "\n",
    "fruits.add(\"orange\")\n",
    "print(fruits)"
   ]
  },
  {
   "cell_type": "code",
   "execution_count": null,
   "id": "53e19320",
   "metadata": {},
   "outputs": [],
   "source": [
    "dup_fruits = fruits.copy()\n",
    "\n",
    "print(id(dup_fruits),id(fruits))"
   ]
  },
  {
   "cell_type": "code",
   "execution_count": null,
   "id": "365403bc",
   "metadata": {},
   "outputs": [],
   "source": [
    "#clear()\n",
    "dup_fruits.clear()\n",
    "\n",
    "print(dup_fruits)"
   ]
  },
  {
   "cell_type": "code",
   "execution_count": null,
   "id": "afa9f405",
   "metadata": {},
   "outputs": [],
   "source": [
    "fruits"
   ]
  },
  {
   "cell_type": "code",
   "execution_count": null,
   "id": "565e742a",
   "metadata": {},
   "outputs": [],
   "source": [
    "#pop()\n",
    "fruits.pop()"
   ]
  },
  {
   "cell_type": "code",
   "execution_count": null,
   "id": "a6210f3a",
   "metadata": {},
   "outputs": [],
   "source": [
    "dup_fruits.pop()"
   ]
  },
  {
   "cell_type": "code",
   "execution_count": null,
   "id": "c87d0619",
   "metadata": {},
   "outputs": [],
   "source": [
    "#remove()\n",
    "\n",
    "print(fruits)\n",
    "\n",
    "fruits.remove(\"apple\")\n",
    "fruits"
   ]
  },
  {
   "cell_type": "code",
   "execution_count": null,
   "id": "cc6263e5",
   "metadata": {},
   "outputs": [],
   "source": [
    "fruits.remove(\"apple\")"
   ]
  },
  {
   "cell_type": "code",
   "execution_count": null,
   "id": "55806d4e",
   "metadata": {},
   "outputs": [],
   "source": [
    "dup_fruits.remove(\"Apple\")"
   ]
  },
  {
   "cell_type": "code",
   "execution_count": null,
   "id": "dca81231",
   "metadata": {},
   "outputs": [],
   "source": [
    "#difference()\n",
    "# syntax \n",
    "# setA.difference(setB)\n",
    "\n",
    "x = {\"apple\", \"banana\", \"cherry\"}\n",
    "y = {\"google\", \"microsoft\", \"apple\"}\n",
    "\n",
    "z = x.difference(y) #x-y \n",
    "\n",
    "print(z)"
   ]
  },
  {
   "cell_type": "code",
   "execution_count": null,
   "id": "6c850a90",
   "metadata": {},
   "outputs": [],
   "source": [
    "z = y.difference(z) #x-y \n",
    "\n",
    "print(z)"
   ]
  },
  {
   "cell_type": "code",
   "execution_count": null,
   "id": "5533c078",
   "metadata": {},
   "outputs": [],
   "source": [
    "z = y.symmetric_difference(x) #y-z \n",
    "\n",
    "print(z)"
   ]
  },
  {
   "cell_type": "code",
   "execution_count": null,
   "id": "2e1b6a7d",
   "metadata": {},
   "outputs": [],
   "source": [
    "x.difference(y) | y.difference(x)"
   ]
  },
  {
   "cell_type": "code",
   "execution_count": null,
   "id": "a6682dde",
   "metadata": {},
   "outputs": [],
   "source": [
    "#discard() -> remove \n",
    "\n",
    "fruits = {\"apple\", \"banana\", \"cherry\",\"banana\",11,11,11,11}\n",
    "\n",
    "print(fruits)\n",
    "\n",
    "fruits.discard(\"banana\")\n",
    "# \n",
    "print(fruits)"
   ]
  },
  {
   "cell_type": "code",
   "execution_count": null,
   "id": "26d309db",
   "metadata": {},
   "outputs": [],
   "source": [
    "fruits.discard(\"banana\")"
   ]
  },
  {
   "cell_type": "code",
   "execution_count": null,
   "id": "38bf3c01",
   "metadata": {},
   "outputs": [],
   "source": [
    "#intersection = common elements\n",
    "\n",
    "x = {\"apple\", \"banana\", \"cherry\"}\n",
    "y = {\"google\", \"microsoft\", \"apple\"}\n",
    "\n",
    "z = x.intersection(y)\n",
    "print(z)\n"
   ]
  },
  {
   "cell_type": "code",
   "execution_count": null,
   "id": "f51031b7",
   "metadata": {},
   "outputs": [],
   "source": [
    "print(x.union(y))"
   ]
  },
  {
   "cell_type": "code",
   "execution_count": null,
   "id": "4e845aa8",
   "metadata": {},
   "outputs": [],
   "source": [
    "#isdisjoint()\n",
    "x = {\"apple\", \"banana\", \"cherry\"}\n",
    "y = {\"google\", \"microsoft\", \"apple1\"}\n",
    "\n",
    "z = x.isdisjoint(y) #x not equal to y #true or false \n",
    "\n",
    "print(z)"
   ]
  },
  {
   "cell_type": "code",
   "execution_count": null,
   "id": "80768c3d",
   "metadata": {},
   "outputs": [],
   "source": [
    "cars = {\"Swift\",\"Mercedes\",\"Tata\",\"I10\",\"I20\",\"Kia\",\"MG\"}\n",
    "\n",
    "print(cars)\n",
    "\n",
    "#remove()\n",
    "\n",
    "cars.remove(\"Tata\")\n",
    "\n",
    "cars.discard(\"Kia\")"
   ]
  },
  {
   "cell_type": "code",
   "execution_count": null,
   "id": "d622714c",
   "metadata": {},
   "outputs": [],
   "source": [
    "cars.remove(\"Alto\") #throw Error if not present\n",
    "cars.discard(\"Audi\") #will not throw an Error , even if it is not present."
   ]
  },
  {
   "cell_type": "code",
   "execution_count": null,
   "id": "f47d134c",
   "metadata": {},
   "outputs": [],
   "source": [
    "# set methods\n",
    "union()\n",
    "add()\n",
    "intersection()\n",
    "difference()\n",
    "symmetric_difference()\n",
    "discard()\n",
    "pop()\n",
    "remove()"
   ]
  },
  {
   "cell_type": "markdown",
   "id": "92ff2012",
   "metadata": {},
   "source": [
    "##### Dictionary Methods"
   ]
  },
  {
   "cell_type": "code",
   "execution_count": null,
   "id": "7d1ed45f",
   "metadata": {},
   "outputs": [],
   "source": [
    "comp = {\n",
    "  \"name\": \"Google\",\n",
    "  \"type\": \"MNC IT\",\n",
    "  \"year\": 1992,\n",
    "  \"ceo\":\"Sundar P\"\n",
    "}\n",
    "print(comp)"
   ]
  },
  {
   "cell_type": "code",
   "execution_count": null,
   "id": "b65337bc",
   "metadata": {},
   "outputs": [],
   "source": [
    "print(comp[\"name\"])"
   ]
  },
  {
   "cell_type": "code",
   "execution_count": null,
   "id": "da5f7723",
   "metadata": {},
   "outputs": [],
   "source": [
    "print(comp.get(\"name2\",\"Key not present\"))"
   ]
  },
  {
   "cell_type": "code",
   "execution_count": null,
   "id": "c1b0aad3",
   "metadata": {},
   "outputs": [],
   "source": [
    "print(comp[\"name2\"])"
   ]
  },
  {
   "cell_type": "code",
   "execution_count": null,
   "id": "eaf1cebf",
   "metadata": {},
   "outputs": [],
   "source": [
    "dir(comp)"
   ]
  },
  {
   "cell_type": "code",
   "execution_count": null,
   "id": "f39ff4c3",
   "metadata": {},
   "outputs": [],
   "source": [
    "comp"
   ]
  },
  {
   "cell_type": "code",
   "execution_count": null,
   "id": "37c548c0",
   "metadata": {},
   "outputs": [],
   "source": [
    "comp.keys()"
   ]
  },
  {
   "cell_type": "code",
   "execution_count": null,
   "id": "3ac8d79d",
   "metadata": {},
   "outputs": [],
   "source": [
    "comp.values()"
   ]
  },
  {
   "cell_type": "code",
   "execution_count": null,
   "id": "df1c2232",
   "metadata": {},
   "outputs": [],
   "source": [
    "comp.items() #[(),(),()]"
   ]
  },
  {
   "cell_type": "code",
   "execution_count": null,
   "id": "a5f17be3",
   "metadata": {},
   "outputs": [],
   "source": [
    "comp.pop(\"type\")"
   ]
  },
  {
   "cell_type": "code",
   "execution_count": null,
   "id": "7228a421",
   "metadata": {},
   "outputs": [],
   "source": [
    "comp"
   ]
  },
  {
   "cell_type": "code",
   "execution_count": null,
   "id": "748e06d5",
   "metadata": {},
   "outputs": [],
   "source": [
    "comp.pop(\"type\")"
   ]
  },
  {
   "cell_type": "code",
   "execution_count": null,
   "id": "6cc46966",
   "metadata": {},
   "outputs": [],
   "source": [
    "comp"
   ]
  },
  {
   "cell_type": "code",
   "execution_count": null,
   "id": "ff9ecb05",
   "metadata": {},
   "outputs": [],
   "source": [
    "comp.popitem()"
   ]
  },
  {
   "cell_type": "code",
   "execution_count": null,
   "id": "e229a30d",
   "metadata": {},
   "outputs": [],
   "source": [
    "# {}.popitem()\n",
    "# [].pop()"
   ]
  },
  {
   "cell_type": "code",
   "execution_count": null,
   "id": "3ba49c8a",
   "metadata": {},
   "outputs": [],
   "source": [
    "comp"
   ]
  },
  {
   "cell_type": "code",
   "execution_count": null,
   "id": "123778f2",
   "metadata": {},
   "outputs": [],
   "source": [
    "comp.update({\"name\":\"Amazon\"})"
   ]
  },
  {
   "cell_type": "code",
   "execution_count": null,
   "id": "5420a4bb",
   "metadata": {},
   "outputs": [],
   "source": [
    "comp"
   ]
  },
  {
   "cell_type": "code",
   "execution_count": null,
   "id": "09864399",
   "metadata": {},
   "outputs": [],
   "source": [
    "comp.update({\"name2\":\"Netflix\"})"
   ]
  },
  {
   "cell_type": "code",
   "execution_count": null,
   "id": "321a42a8",
   "metadata": {},
   "outputs": [],
   "source": [
    "comp"
   ]
  },
  {
   "cell_type": "code",
   "execution_count": null,
   "id": "96f18181",
   "metadata": {},
   "outputs": [],
   "source": [
    "x = ('key1', 'key2', 'key3')\n",
    "y = ('a','b','c')\n",
    "\n",
    "thisdict = dict.fromkeys(x, y)\n",
    "\n",
    "print(thisdict)"
   ]
  },
  {
   "cell_type": "code",
   "execution_count": null,
   "id": "cd4a9d9f",
   "metadata": {},
   "outputs": [],
   "source": [
    "#NOTE \n",
    "#accessing and removing with unknow key=>key error\n",
    "#for updating it will , adbd a new item (K , V)"
   ]
  },
  {
   "cell_type": "markdown",
   "id": "740a90d8",
   "metadata": {},
   "source": [
    "#### Indexing"
   ]
  },
  {
   "cell_type": "code",
   "execution_count": null,
   "id": "5446d050",
   "metadata": {},
   "outputs": [],
   "source": [
    "list_1D = [\"Facebook\",0.0,\"USD\",2974676,3.5,True,10+2j]"
   ]
  },
  {
   "cell_type": "code",
   "execution_count": null,
   "id": "8dc36601",
   "metadata": {},
   "outputs": [],
   "source": [
    "print(len(list_1D))"
   ]
  },
  {
   "cell_type": "code",
   "execution_count": null,
   "id": "425c0985",
   "metadata": {},
   "outputs": [],
   "source": [
    "list_2D= [[2, 4, 6, 8, 10], [3, 6, 9, 12, 15], [4, 8, 12, 16, 20]]\n",
    "print(list_2D)"
   ]
  },
  {
   "cell_type": "code",
   "execution_count": null,
   "id": "cce347ab",
   "metadata": {},
   "outputs": [],
   "source": [
    "list_2D= [[2, 4, 6, 8, 10,['Google','MS','Info']], [3, 6, 9, 12, 15,['a','dog','bird']], [4, 8, 12, 16, 20]]\n",
    "\n",
    "print(list_2D[0][5][2])"
   ]
  },
  {
   "cell_type": "code",
   "execution_count": null,
   "id": "fd447c04",
   "metadata": {},
   "outputs": [],
   "source": [
    "print(list_2D[-3][-1][-1][-2])"
   ]
  },
  {
   "cell_type": "code",
   "execution_count": null,
   "id": "f55b938f",
   "metadata": {},
   "outputs": [],
   "source": [
    "\n",
    "some_list = [1,2,['a','b',['cat','dog'],'c'],3]\n",
    "\n",
    "# write a statement to access 't' of 'cat'\n",
    "\n",
    "print(some_list[2][2][0][2])"
   ]
  },
  {
   "cell_type": "code",
   "execution_count": null,
   "id": "6c3ea507",
   "metadata": {},
   "outputs": [],
   "source": [
    "print(some_list[-2][-2][-2][-1])"
   ]
  },
  {
   "cell_type": "code",
   "execution_count": null,
   "id": "1ff3888d",
   "metadata": {},
   "outputs": [],
   "source": [
    "#slicing  [start:stop:step]\n",
    "# step =1 #default\n",
    "# stop = exclusive # default = len\n",
    "# start = 0 # default\n",
    "\n",
    "\n",
    "\n",
    "#if the step is -1\n",
    "#start -1\n",
    "#stop = -len+(-1)\n",
    "#step = -1 \n",
    "\n",
    "#result is reverse order.\n",
    "\n",
    "\n",
    "\n",
    "list_1D = [\"Facebook\",0.0,\"USD\",2974676,3.5,True,10+2j]\n",
    "\n",
    "\n",
    "# list_name[start:stop:step]\n",
    "list_1D[1:4:1]"
   ]
  },
  {
   "cell_type": "code",
   "execution_count": null,
   "id": "aac29599",
   "metadata": {},
   "outputs": [],
   "source": [
    "list_1D[1:4]"
   ]
  },
  {
   "cell_type": "code",
   "execution_count": null,
   "id": "2febc024",
   "metadata": {},
   "outputs": [],
   "source": [
    "list_1D[:6]"
   ]
  },
  {
   "cell_type": "code",
   "execution_count": null,
   "id": "ce660c1a",
   "metadata": {},
   "outputs": [],
   "source": [
    "list_1D[:100]"
   ]
  },
  {
   "cell_type": "code",
   "execution_count": null,
   "id": "095dede3",
   "metadata": {},
   "outputs": [],
   "source": [
    "list_1D[-1:-len(list_1D)-1:-1]"
   ]
  },
  {
   "cell_type": "code",
   "execution_count": null,
   "id": "1aae0ffe",
   "metadata": {},
   "outputs": [],
   "source": [
    "some_list = [1,2,['a','b',['cat','dog'],'c'],3,7,39]\n",
    "some_list[2:3:1]"
   ]
  },
  {
   "cell_type": "code",
   "execution_count": null,
   "id": "8a278435",
   "metadata": {},
   "outputs": [],
   "source": [
    "list_1D[::-1]"
   ]
  },
  {
   "cell_type": "code",
   "execution_count": null,
   "id": "89a9169b",
   "metadata": {},
   "outputs": [],
   "source": [
    "list_1D"
   ]
  },
  {
   "cell_type": "code",
   "execution_count": null,
   "id": "f51b4e3f",
   "metadata": {},
   "outputs": [],
   "source": [
    "name = \"AKRajamoni\"\n",
    "print(name[-1])\n",
    "print(name[:3])\n",
    "print(name[1:6:2])\n",
    "print(name[-1:-4:-1])\n",
    "print(name [:])\n",
    "print(name[::-1]) #reverse order\n",
    "print(\"\".join(reversed(name)))"
   ]
  },
  {
   "cell_type": "code",
   "execution_count": null,
   "id": "b8e8aa9f",
   "metadata": {},
   "outputs": [],
   "source": [
    "name[:]"
   ]
  },
  {
   "cell_type": "code",
   "execution_count": null,
   "id": "cf148bca",
   "metadata": {},
   "outputs": [],
   "source": [
    "imdb = ((\"Instant Family\",7.2,(\"Hugo\",7.8)),[\"Intersellar\",8.0],{\"Tenet\",7.5},{\"Movie_Name\":\"Despicable Me\",\"Rating\":7.2})"
   ]
  },
  {
   "cell_type": "code",
   "execution_count": null,
   "id": "9ca088b5",
   "metadata": {},
   "outputs": [],
   "source": [
    "imdb[-1].get(\"Movie_Name\")"
   ]
  },
  {
   "cell_type": "code",
   "execution_count": null,
   "id": "b6a69c42",
   "metadata": {},
   "outputs": [],
   "source": [
    "imdb[1][0]=\"Don't breathe\"\n",
    "print(imdb)"
   ]
  },
  {
   "cell_type": "code",
   "execution_count": null,
   "id": "8c8d1f43",
   "metadata": {},
   "outputs": [],
   "source": [
    "\n",
    "teams=(\"IND\",\"PAK\",\"NZ\",\"ENG\",\"AUS\")\n",
    "teams[::-1] #reverse order"
   ]
  },
  {
   "cell_type": "markdown",
   "id": "3ff8eb03",
   "metadata": {},
   "source": [
    "#### set indexing "
   ]
  },
  {
   "cell_type": "code",
   "execution_count": null,
   "id": "ab77c651",
   "metadata": {},
   "outputs": [],
   "source": [
    "crypto = {\"Bit coin\",\"Dogecoin\",\"Etherum\"}\n",
    "\n",
    "print(crypto[0]) \n",
    "\n",
    "print(crypto) "
   ]
  },
  {
   "cell_type": "markdown",
   "id": "5f21b54a",
   "metadata": {},
   "source": [
    "#### dict indexing"
   ]
  },
  {
   "cell_type": "code",
   "execution_count": null,
   "id": "b1c67e95",
   "metadata": {},
   "outputs": [],
   "source": [
    "d={\"a\":[1,{\"a\":10}],\n",
    "    \"x\":{\"x\":20}}\n",
    "\n",
    "\n",
    "print(d)\n",
    "print(d['a'])\n",
    "print(d['x'])\n",
    "print(d['x']['x'])\n",
    "print(d['a'][1]['a'])"
   ]
  },
  {
   "cell_type": "markdown",
   "id": "34dc59bc",
   "metadata": {},
   "source": [
    "#### Operators"
   ]
  },
  {
   "cell_type": "code",
   "execution_count": null,
   "id": "2fde76b7",
   "metadata": {},
   "outputs": [],
   "source": [
    "#arthm\n",
    "\n",
    "# + - * / // ** % \n",
    "\n",
    "a = 10\n",
    "b = 20\n",
    "print(a+b)\n",
    "print(a-b)\n",
    "print(a*b)\n",
    "print(a/b)\n",
    "print(a//b) #floor divison -> Integer part\n",
    "print(a%b) # Remainder \n",
    "print(a**b) #power"
   ]
  },
  {
   "cell_type": "code",
   "execution_count": null,
   "id": "04dd7d6a",
   "metadata": {},
   "outputs": [],
   "source": [
    "# Assignment \n",
    "# =\n",
    "# += ,-= , \n",
    "\n",
    "a = 3\n",
    "a= a+1 #a+=1\n",
    "\n",
    "print(a)\n",
    "a+=2\n",
    "print(a)\n",
    "\n",
    "a-=2\n",
    "print(a)\n",
    "\n",
    "a/=2\n",
    "\n",
    "print(a)\n",
    "\n",
    "a**=2\n",
    "\n",
    "print(a)"
   ]
  },
  {
   "cell_type": "code",
   "execution_count": null,
   "id": "d7fbbc04",
   "metadata": {},
   "outputs": [],
   "source": [
    "#Realtional  operators"
   ]
  },
  {
   "cell_type": "code",
   "execution_count": null,
   "id": "f491b099",
   "metadata": {},
   "outputs": [],
   "source": [
    "#logical \n",
    "# and  -> T and T -> True\n",
    "# or  -> alteast one should be True\n",
    "# not  -> reverese"
   ]
  },
  {
   "cell_type": "code",
   "execution_count": null,
   "id": "8f396bff",
   "metadata": {},
   "outputs": [],
   "source": [
    "name = \"fury\"\n",
    "passwd = 1234\n",
    "print(type(name),type(['fury'] ))\n",
    "\n",
    "\n",
    "print(name == ['fury'] and passwd == 1234) #both\n",
    "\n",
    "print(name ==\"fur\" or passwd == 1234) #atleast \n",
    "\n",
    "print(not (name ==\"fury\" and passwd==1234))"
   ]
  },
  {
   "cell_type": "code",
   "execution_count": null,
   "id": "fc6cb396",
   "metadata": {},
   "outputs": [],
   "source": [
    "name = input(\"Enter the name \")\n",
    "\n",
    "if (name == \"fury\"):\n",
    "    print(\"It is correct\")\n",
    "else:\n",
    "    print(\"it is wrong value\")"
   ]
  },
  {
   "cell_type": "code",
   "execution_count": null,
   "id": "74891b60",
   "metadata": {},
   "outputs": [],
   "source": [
    "#login application \n",
    "\n",
    "database = {\"username\":\"divya\",\"passwd\":\"divya123\"}\n",
    "\n",
    "username = input(\"Enter the username: \")\n",
    "\n",
    "passwd = input(\"Enter the passsword: \")\n",
    "\n",
    "if username != database[\"username\"]:\n",
    "    print(\"Invalid username\")\n",
    "if passwd != database[\"passwd\"]:\n",
    "    print(\"Invalid passwd\")\n",
    "    \n",
    "if username == database[\"username\"] and passwd == database[\"passwd\"]:\n",
    "    print(\"Login Success\")\n",
    "\n",
    "else:\n",
    "    print(\"Invalid Creds\")"
   ]
  },
  {
   "cell_type": "code",
   "execution_count": null,
   "id": "01dffc85",
   "metadata": {},
   "outputs": [],
   "source": [
    "a = 10\n",
    "b = 300\n",
    "\n",
    "if a>=10 and not b<100:\n",
    "    print(True)\n",
    "    a+=10\n",
    "    b-=5\n",
    "    if a>=15 or b>40:\n",
    "        print(a,b)\n",
    "    else:\n",
    "        print(b)\n",
    "else:\n",
    "    if a==10 or b>10:\n",
    "        a+=10\n",
    "        b+=30\n",
    "        if (a+b) >50:\n",
    "            print(a,b)\n",
    "        else:\n",
    "            print(b)\n",
    "    print(False)"
   ]
  },
  {
   "cell_type": "code",
   "execution_count": null,
   "id": "b7fd1bd8",
   "metadata": {},
   "outputs": [],
   "source": [
    "a=20\n",
    "b=30\n",
    "c=20\n",
    "print(a==b) #values \n",
    "print(a is b) # memory addr\n",
    "print(a is c)\n",
    "print(a is not b)"
   ]
  },
  {
   "cell_type": "code",
   "execution_count": null,
   "id": "7014d572",
   "metadata": {},
   "outputs": [],
   "source": [
    "a=10\n",
    "b=10\n",
    "print(a is b)\n",
    "\n",
    "print(id(a) ,id(b))"
   ]
  },
  {
   "cell_type": "code",
   "execution_count": null,
   "id": "5d0c7312",
   "metadata": {},
   "outputs": [],
   "source": [
    "a=[10]\n",
    "b=[10]\n",
    "print(id(a),id(b))\n",
    "print(a is b) #address\n",
    "print(a==b) #values\n",
    "c=a #alias\n",
    "print(c is a)"
   ]
  },
  {
   "cell_type": "code",
   "execution_count": null,
   "id": "6d55bc2c",
   "metadata": {},
   "outputs": [],
   "source": [
    "for data in range(1,10,2):\n",
    "    print(data , end =\" \")"
   ]
  },
  {
   "cell_type": "markdown",
   "id": "7dc68b8a",
   "metadata": {},
   "source": [
    "### copy"
   ]
  },
  {
   "cell_type": "code",
   "execution_count": null,
   "id": "8d5f7f48",
   "metadata": {},
   "outputs": [],
   "source": [
    "# alias\n",
    "# copy()\n",
    "# shallow copy()\n",
    "# deep copy()\n",
    "\n"
   ]
  },
  {
   "cell_type": "code",
   "execution_count": null,
   "id": "5b1f612f",
   "metadata": {},
   "outputs": [],
   "source": [
    "a = [10,203,40]\n",
    "\n",
    "c = a\n",
    "\n",
    "print(id(a) ,id(c))\n",
    "\n",
    "a[0] = \"Python\"\n",
    "\n",
    "print(a,c)\n"
   ]
  },
  {
   "cell_type": "code",
   "execution_count": null,
   "id": "98dfc207",
   "metadata": {},
   "outputs": [],
   "source": [
    "d = [10,203,22,22]\n",
    "\n",
    "e = d.copy()\n",
    "\n",
    "print(id(d) ,id(e))\n",
    "\n",
    "e[0] = \"java\"\n",
    "\n",
    "print(d,e)"
   ]
  },
  {
   "cell_type": "code",
   "execution_count": null,
   "id": "6c420fa5",
   "metadata": {},
   "outputs": [],
   "source": [
    "import copy \n",
    "\n"
   ]
  }
 ],
 "metadata": {
  "kernelspec": {
   "display_name": "Python 3",
   "language": "python",
   "name": "python3"
  },
  "language_info": {
   "codemirror_mode": {
    "name": "ipython",
    "version": 3
   },
   "file_extension": ".py",
   "mimetype": "text/x-python",
   "name": "python",
   "nbconvert_exporter": "python",
   "pygments_lexer": "ipython3",
   "version": "3.8.8"
  }
 },
 "nbformat": 4,
 "nbformat_minor": 5
}
